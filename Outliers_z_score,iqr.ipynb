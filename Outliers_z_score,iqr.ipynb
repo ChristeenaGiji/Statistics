{
  "nbformat": 4,
  "nbformat_minor": 0,
  "metadata": {
    "colab": {
      "provenance": [],
      "authorship_tag": "ABX9TyPav4gJt2ujS+fpqAP4tqn7",
      "include_colab_link": true
    },
    "kernelspec": {
      "name": "python3",
      "display_name": "Python 3"
    },
    "language_info": {
      "name": "python"
    }
  },
  "cells": [
    {
      "cell_type": "markdown",
      "metadata": {
        "id": "view-in-github",
        "colab_type": "text"
      },
      "source": [
        "<a href=\"https://colab.research.google.com/github/ChristeenaGiji/Statistics/blob/main/Outliers_z_score%2Ciqr.ipynb\" target=\"_parent\"><img src=\"https://colab.research.google.com/assets/colab-badge.svg\" alt=\"Open In Colab\"/></a>"
      ]
    },
    {
      "cell_type": "code",
      "execution_count": 5,
      "metadata": {
        "id": "WF1rI6YHLCo-"
      },
      "outputs": [],
      "source": [
        "import numpy as np\n",
        "import matplotlib.pyplot as plt\n",
        "%matplotlib inline"
      ]
    },
    {
      "cell_type": "code",
      "source": [
        "#Define our dataset\n",
        "dataset=[11,10,12,14,12,15,14,13,102,12,14,17,19,107,10,13,12,14,12,108,12,11,14,13,15,12,10,14,13,15,10]"
      ],
      "metadata": {
        "id": "nFDcYSfwLLiB"
      },
      "execution_count": 3,
      "outputs": []
    },
    {
      "cell_type": "markdown",
      "source": [
        "# Z Score"
      ],
      "metadata": {
        "id": "0yWfw0e1SGdc"
      }
    },
    {
      "cell_type": "markdown",
      "source": [
        "z-score- after 3sd we can treat as outliers"
      ],
      "metadata": {
        "id": "MXdTZad8Qj3r"
      }
    },
    {
      "cell_type": "code",
      "source": [
        "outliers=[]\n",
        "def detect_outliers(data):\n",
        "  threshold=3\n",
        "  mean_1=np.mean(data)\n",
        "  std_1=np.std(data)\n",
        "  for i in data:\n",
        "    z_score=(i-mean_1)/std_1\n",
        "    if np.abs(z_score)>threshold:\n",
        "      outliers.append(i)\n",
        "  return outliers"
      ],
      "metadata": {
        "id": "y9KE1ipSQZf-"
      },
      "execution_count": 7,
      "outputs": []
    },
    {
      "cell_type": "code",
      "source": [
        "detect_outliers(dataset)"
      ],
      "metadata": {
        "colab": {
          "base_uri": "https://localhost:8080/"
        },
        "id": "xT6q98qdQ9zj",
        "outputId": "296a4b9b-33d7-4457-8a38-adb93de011d0"
      },
      "execution_count": 8,
      "outputs": [
        {
          "output_type": "execute_result",
          "data": {
            "text/plain": [
              "[107, 108]"
            ]
          },
          "metadata": {},
          "execution_count": 8
        }
      ]
    },
    {
      "cell_type": "markdown",
      "source": [
        "#IQR"
      ],
      "metadata": {
        "id": "bAJkuEohSJam"
      }
    },
    {
      "cell_type": "markdown",
      "source": [
        "1. Sort the data\n",
        "2. Calculate Q1 and Q3\n",
        "3. IQR(Q3-Q1)\n",
        "4. Find Lower fence (Q1-1.5(IQR))\n",
        "4. Find Upper fence (Q3+1.5(IQR))"
      ],
      "metadata": {
        "id": "78B1qlzMSPCp"
      }
    },
    {
      "cell_type": "code",
      "source": [
        "dataset=sorted(dataset)\n",
        "dataset"
      ],
      "metadata": {
        "colab": {
          "base_uri": "https://localhost:8080/"
        },
        "id": "AFAttaZJR203",
        "outputId": "b51e7579-f7a6-4965-cdc5-81de255ed596"
      },
      "execution_count": 9,
      "outputs": [
        {
          "output_type": "execute_result",
          "data": {
            "text/plain": [
              "[10,\n",
              " 10,\n",
              " 10,\n",
              " 10,\n",
              " 11,\n",
              " 11,\n",
              " 12,\n",
              " 12,\n",
              " 12,\n",
              " 12,\n",
              " 12,\n",
              " 12,\n",
              " 12,\n",
              " 13,\n",
              " 13,\n",
              " 13,\n",
              " 13,\n",
              " 14,\n",
              " 14,\n",
              " 14,\n",
              " 14,\n",
              " 14,\n",
              " 14,\n",
              " 15,\n",
              " 15,\n",
              " 15,\n",
              " 17,\n",
              " 19,\n",
              " 102,\n",
              " 107,\n",
              " 108]"
            ]
          },
          "metadata": {},
          "execution_count": 9
        }
      ]
    },
    {
      "cell_type": "code",
      "source": [
        "q1,q3=np.percentile(dataset,[25,75])"
      ],
      "metadata": {
        "id": "JG1TkljNSxk-"
      },
      "execution_count": 10,
      "outputs": []
    },
    {
      "cell_type": "code",
      "source": [
        "print(q1,q3)"
      ],
      "metadata": {
        "colab": {
          "base_uri": "https://localhost:8080/"
        },
        "id": "lRqLqfD-S4oj",
        "outputId": "238e3b1b-7ca6-4ff8-80cc-3506106337c7"
      },
      "execution_count": 11,
      "outputs": [
        {
          "output_type": "stream",
          "name": "stdout",
          "text": [
            "12.0 14.5\n"
          ]
        }
      ]
    },
    {
      "cell_type": "code",
      "source": [
        "IQR=q3-q1"
      ],
      "metadata": {
        "id": "hmi3I468TC-v"
      },
      "execution_count": 13,
      "outputs": []
    },
    {
      "cell_type": "code",
      "source": [
        "lower_fence=q1-(1.5*IQR)\n",
        "upper_fence=q3+(1.5*IQR)"
      ],
      "metadata": {
        "id": "acQFJ1lnS6Jk"
      },
      "execution_count": 14,
      "outputs": []
    },
    {
      "cell_type": "code",
      "source": [
        "print(lower_fence,upper_fence)"
      ],
      "metadata": {
        "colab": {
          "base_uri": "https://localhost:8080/"
        },
        "id": "1n_dmqQqTIF8",
        "outputId": "95dfcd63-192e-49b1-975a-74c95555fc8b"
      },
      "execution_count": 15,
      "outputs": [
        {
          "output_type": "stream",
          "name": "stdout",
          "text": [
            "8.25 18.25\n"
          ]
        }
      ]
    },
    {
      "cell_type": "code",
      "source": [
        "import seaborn as sns\n",
        "sns.boxplot(dataset)\n"
      ],
      "metadata": {
        "colab": {
          "base_uri": "https://localhost:8080/",
          "height": 428
        },
        "id": "SdoMjONaTW9K",
        "outputId": "9c78330b-5ef7-4d3d-84b8-38ba71dfad8f"
      },
      "execution_count": 16,
      "outputs": [
        {
          "output_type": "execute_result",
          "data": {
            "text/plain": [
              "<Axes: >"
            ]
          },
          "metadata": {},
          "execution_count": 16
        },
        {
          "output_type": "display_data",
          "data": {
            "text/plain": [
              "<Figure size 640x480 with 1 Axes>"
            ],
            "image/png": "[encoded data removed]"
          },
          "metadata": {}
        }
      ]
    },
    {
      "cell_type": "code",
      "source": [
        "for i in dataset:\n",
        "  if i<lower_fence or i>upper_fence:\n",
        "    print(i)\n",
        ""
      ],
      "metadata": {
        "colab": {
          "base_uri": "https://localhost:8080/"
        },
        "id": "D0cXqt8xTfYc",
        "outputId": "c1374e16-705a-4b0d-ffba-df19a3071553"
      },
      "execution_count": 17,
      "outputs": [
        {
          "output_type": "stream",
          "name": "stdout",
          "text": [
            "19\n",
            "102\n",
            "107\n",
            "108\n"
          ]
        }
      ]
    },
    {
      "cell_type": "code",
      "source": [],
      "metadata": {
        "id": "puoo5AEHTuqr"
      },
      "execution_count": null,
      "outputs": []
    }
  ]
}